{
  "nbformat": 4,
  "nbformat_minor": 0,
  "metadata": {
    "colab": {
      "provenance": []
    },
    "kernelspec": {
      "name": "python3",
      "display_name": "Python 3"
    },
    "language_info": {
      "name": "python"
    }
  },
  "cells": [
    {
      "cell_type": "code",
      "execution_count": null,
      "metadata": {
        "colab": {
          "base_uri": "https://localhost:8080/"
        },
        "id": "m3hcC_olf-LU",
        "outputId": "9aac83a2-851e-4814-91fb-577c2f439df8"
      },
      "outputs": [
        {
          "output_type": "stream",
          "name": "stdout",
          "text": [
            "100 95 90 85 80\n",
            "90.0\n"
          ]
        }
      ],
      "source": [
        "scores = input().split()\n",
        "scores[0] = (int)(scores[0])\n",
        "scores[1] = (int)(scores[1])\n",
        "scores[2] = (int)(scores[2])\n",
        "scores[3] = (int)(scores[3])\n",
        "scores[4] = (int)(scores[4])\n",
        "scores.remove(max(scores))\n",
        "scores.remove(min(scores))\n",
        "average = sum(scores) / 3\n",
        "print(format(average))"
      ]
    },
    {
      "cell_type": "code",
      "source": [
        "num1 = float(input())\n",
        "num2 = float(input())\n",
        "operator = input()\n",
        "\n",
        "if operator == '+':\n",
        "    result = num1 + num2\n",
        "elif operator == '-':\n",
        "    result = num1 - num2\n",
        "elif operator == '*':\n",
        "    result = num1 * num2\n",
        "elif operator == '/':\n",
        "    if num2 == 0:\n",
        "        result = \"除式不能為0\"\n",
        "    else:\n",
        "        result = num1 / num2\n",
        "else:\n",
        "    result = \"無效的運算符號\"\n",
        "\n",
        "# 顯示結果\n",
        "print(\"計算結果: \", result)"
      ],
      "metadata": {
        "colab": {
          "base_uri": "https://localhost:8080/"
        },
        "id": "s5UtEWNzm_06",
        "outputId": "aaeadee4-8438-4198-ed05-e92654bfdceb"
      },
      "execution_count": null,
      "outputs": [
        {
          "output_type": "stream",
          "name": "stdout",
          "text": [
            "3\n",
            "8\n",
            "*\n",
            "計算結果:  24.0\n"
          ]
        }
      ]
    },
    {
      "cell_type": "code",
      "source": [
        "year=int(input(\"請輸入一個年份\"))\n",
        "if year < 1582:\n",
        "    if year % 4 == 0:\n",
        "        print(\"{} 年是閏年\".format(year))\n",
        "    else:\n",
        "        print(\"{} 年是平年\".format(year))\n",
        "else:\n",
        "    if (year % 4 == 0 and year % 100 != 0) or (year % 400 == 0):\n",
        "        print(\"{} 年是閏年\".format(year))\n",
        "    else:\n",
        "        print(\"{} 年是平年\".format(year))"
      ],
      "metadata": {
        "colab": {
          "base_uri": "https://localhost:8080/"
        },
        "id": "Xx2HqFugnkAj",
        "outputId": "5ec783ca-ccee-4885-b9db-7ad91bbaadaf"
      },
      "execution_count": 2,
      "outputs": [
        {
          "output_type": "stream",
          "name": "stdout",
          "text": [
            "請輸入一個年份1580\n",
            "1580 年是閏年\n"
          ]
        }
      ]
    }
  ]
}
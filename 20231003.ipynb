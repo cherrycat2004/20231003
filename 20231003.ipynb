{
  "nbformat": 4,
  "nbformat_minor": 0,
  "metadata": {
    "colab": {
      "provenance": []
    },
    "kernelspec": {
      "name": "python3",
      "display_name": "Python 3"
    },
    "language_info": {
      "name": "python"
    }
  },
  "cells": [
    {
      "cell_type": "code",
      "execution_count": 3,
      "metadata": {
        "colab": {
          "base_uri": "https://localhost:8080/"
        },
        "id": "Jk6GvcmecvLh",
        "outputId": "510fc35c-0fb1-4846-a89d-ae61b7656c3e"
      },
      "outputs": [
        {
          "output_type": "stream",
          "name": "stdout",
          "text": [
            "['K', 'H', 'U']\n"
          ]
        }
      ],
      "source": [
        "a = 'C,B,A'\n",
        "b = ['F','G','H']\n",
        "a_split=a.split(',')\n",
        "combined_list=a_split+b\n",
        "combined_list[0]='K'\n",
        "del combined_list[2]\n",
        "combined_list[1:4]=[]\n",
        "combined_list.append('U')\n",
        "print(combined_list)\n"
      ]
    },
    {
      "cell_type": "code",
      "source": [
        "height=float(input())\n",
        "weight=float(input())\n",
        "height*=height\n",
        "weight/=height\n",
        "print('BMI:',weight)\n",
        "print('體位:')\n",
        "if weight<18.5:\n",
        "  print('過輕')\n",
        "elif 18.5<=weight<24:\n",
        "  print('適中')\n",
        "elif 24<=weight<27:\n",
        "  print('過重')\n",
        "else :\n",
        "  print('肥胖')"
      ],
      "metadata": {
        "colab": {
          "base_uri": "https://localhost:8080/"
        },
        "id": "HIDLtNPWl8L2",
        "outputId": "091b5969-3926-4543-b383-30286a43ba77"
      },
      "execution_count": 7,
      "outputs": [
        {
          "output_type": "stream",
          "name": "stdout",
          "text": [
            "1.6\n",
            "60\n",
            "BMI: 23.437499999999996\n",
            "體位:\n",
            "適中\n"
          ]
        }
      ]
    }
  ]
}